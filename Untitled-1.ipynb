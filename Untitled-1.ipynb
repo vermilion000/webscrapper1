{
 "cells": [
  {
   "cell_type": "code",
   "execution_count": 31,
   "metadata": {},
   "outputs": [
    {
     "name": "stderr",
     "output_type": "stream",
     "text": [
      "usage: ipykernel_launcher.py [-h] [--page_max PAGE_MAX] [--dbname DBNAME]\n",
      "ipykernel_launcher.py: error: unrecognized arguments: --ip=127.0.0.1 --stdin=9003 --control=9001 --hb=9000 --Session.signature_scheme=\"hmac-sha256\" --Session.key=b\"5d79efae-bc1f-4c1d-b92e-639e388ed82a\" --shell=9002 --transport=\"tcp\" --iopub=9004 --f=c:\\Users\\bolla\\AppData\\Roaming\\jupyter\\runtime\\kernel-v2-13168gN72ITO39hNx.json\n"
     ]
    },
    {
     "ename": "SystemExit",
     "evalue": "2",
     "output_type": "error",
     "traceback": [
      "An exception has occurred, use %tb to see the full traceback.\n",
      "\u001b[1;31mSystemExit\u001b[0m\u001b[1;31m:\u001b[0m 2\n"
     ]
    },
    {
     "name": "stderr",
     "output_type": "stream",
     "text": [
      "c:\\Users\\bolla\\AppData\\Local\\Programs\\Python\\Python310\\lib\\site-packages\\IPython\\core\\interactiveshell.py:3406: UserWarning: To exit: use 'exit', 'quit', or Ctrl-D.\n",
      "  warn(\"To exit: use 'exit', 'quit', or Ctrl-D.\", stacklevel=1)\n"
     ]
    }
   ],
   "source": [
    "\n",
    "import requests \n",
    "from bs4 import BeautifulSoup \n",
    "import argparse\n",
    "import connect\n",
    "\n",
    "parser = argparse.ArgumentParser()\n",
    "parser.add_argument(\"--page_max\" ,help =\"Enter the no of pages\", type=int)\n",
    "parser.add_argument(\"--dbname\" ,help =\"Enter the no of DATABASE\", type=str)\n",
    "args = parser.parse_args()\n",
    "\n",
    "dbname = args.dbname\n",
    "page_max =args.page_max\n",
    "connect.create(dbname)\n",
    "url1 = \"http://books.toscrape.com/catalogue/page-\"\n",
    "for n in range(1,page_max):\n",
    "    req = requests.get(url1+ str(n) +\".html\")\n",
    "\n",
    "    con = req.content\n",
    "    sh = BeautifulSoup(con,\"html.parser\")\n",
    "\n",
    "    data1 = sh.find_all(\"li\"  ,{\"class\":\"col-xs-6 col-sm-4 col-md-3 col-lg-3\"})\n",
    "    for k in data1 :\n",
    "        dict = {}\n",
    "        dict[name] = k.find(\"h3\").text\n",
    "        dict[price] = k.find(\"p\",{\"class\" : \"price_color\"}).text\n",
    "        dict[avail] = k.find(\"p\",{\"class\" : \"instock availability\"}).text\n",
    "    connect.insert_datato_db(dbname,tuple(dict.values()))    \n",
    "\n",
    "connect.get_datafrom_db(dbname)\n",
    "\n",
    "\n"
   ]
  }
 ],
 "metadata": {
  "kernelspec": {
   "display_name": "Python 3.10.5 64-bit",
   "language": "python",
   "name": "python3"
  },
  "language_info": {
   "codemirror_mode": {
    "name": "ipython",
    "version": 3
   },
   "file_extension": ".py",
   "mimetype": "text/x-python",
   "name": "python",
   "nbconvert_exporter": "python",
   "pygments_lexer": "ipython3",
   "version": "3.10.5"
  },
  "orig_nbformat": 4,
  "vscode": {
   "interpreter": {
    "hash": "f85e364e3e9aadcd0b66a2f4641e407919069e87e290d6b80d1ffb3b7b72929e"
   }
  }
 },
 "nbformat": 4,
 "nbformat_minor": 2
}
